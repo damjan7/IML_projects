{
 "cells": [
  {
   "cell_type": "code",
   "execution_count": 1,
   "metadata": {},
   "outputs": [],
   "source": [
    "import pandas as pd\n",
    "import numpy as np\n",
    "from sklearn.model_selection import cross_val_score\n",
    "from sklearn.model_selection import RepeatedKFold\n",
    "from sklearn.linear_model import Ridge"
   ]
  },
  {
   "cell_type": "markdown",
   "metadata": {},
   "source": [
    "### Prepare the dataset"
   ]
  },
  {
   "cell_type": "code",
   "execution_count": 2,
   "metadata": {},
   "outputs": [],
   "source": [
    "reg_params = [0.1, 1, 10, 100, 200]\n",
    "reg_params = np.array(reg_params)\n",
    "\n",
    "train_dat = pd.read_csv(\"train.csv\")\n",
    "train_dat.shape\n",
    "X_train = train_dat.iloc[:, 1:]\n",
    "y_train = train_dat.iloc[:, 0]"
   ]
  },
  {
   "cell_type": "markdown",
   "metadata": {},
   "source": [
    "### Define the model"
   ]
  },
  {
   "cell_type": "code",
   "execution_count": 12,
   "metadata": {},
   "outputs": [],
   "source": [
    "res = list(range(5))\n",
    "\n",
    "for i in range(5):\n",
    "    model = Ridge(alpha = reg_params[i]) \n",
    "    cv = RepeatedKFold(n_splits=10, n_repeats=1, random_state=1)\n",
    "\n",
    "    #evaluation\n",
    "    scores = cross_val_score(model, X_train, y_train, scoring = \"neg_root_mean_squared_error\", cv = cv)\n",
    "\n",
    "    res[i] = sum(scores * -1)/10"
   ]
  },
  {
   "cell_type": "code",
   "execution_count": 13,
   "metadata": {},
   "outputs": [
    {
     "data": {
      "text/plain": [
       "[5.501809445057857,\n",
       " 5.499838741278099,\n",
       " 5.483631486072288,\n",
       " 5.636642135414036,\n",
       " 5.721233719861129]"
      ]
     },
     "execution_count": 13,
     "metadata": {},
     "output_type": "execute_result"
    }
   ],
   "source": [
    "res"
   ]
  },
  {
   "cell_type": "code",
   "execution_count": 14,
   "metadata": {},
   "outputs": [
    {
     "data": {
      "text/plain": [
       "pandas.core.frame.DataFrame"
      ]
     },
     "execution_count": 14,
     "metadata": {},
     "output_type": "execute_result"
    }
   ],
   "source": [
    "test = pd.read_csv(\"sample.csv\")\n",
    "type(test)"
   ]
  },
  {
   "cell_type": "code",
   "execution_count": 15,
   "metadata": {},
   "outputs": [],
   "source": [
    "res = pd.DataFrame(res)\n",
    "\n",
    "res.to_csv(r\"C:\\Users\\Damja\\OneDrive\\Damjan\\FS22\\Intro_to_ML\\project1\\Task1a\\result_task1A.csv\", index = False, header = False)"
   ]
  }
 ],
 "metadata": {
  "kernelspec": {
   "display_name": "Python 3",
   "language": "python",
   "name": "python3"
  },
  "language_info": {
   "codemirror_mode": {
    "name": "ipython",
    "version": 3
   },
   "file_extension": ".py",
   "mimetype": "text/x-python",
   "name": "python",
   "nbconvert_exporter": "python",
   "pygments_lexer": "ipython3",
   "version": "3.8.5"
  }
 },
 "nbformat": 4,
 "nbformat_minor": 4
}
