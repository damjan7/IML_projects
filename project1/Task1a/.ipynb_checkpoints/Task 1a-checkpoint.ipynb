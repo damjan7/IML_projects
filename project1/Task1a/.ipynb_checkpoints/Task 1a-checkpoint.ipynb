{
 "cells": [
  {
   "cell_type": "code",
   "execution_count": 1,
   "metadata": {},
   "outputs": [],
   "source": [
    "import pandas as pd\n",
    "import numpy as np\n",
    "from sklearn.model_selection import cross_val_score\n",
    "from sklearn.model_selection import RepeatedKFold\n",
    "from sklearn.linear_model import Ridge"
   ]
  },
  {
   "cell_type": "markdown",
   "metadata": {},
   "source": [
    "### Prepare the dataset"
   ]
  },
  {
   "cell_type": "code",
   "execution_count": 2,
   "metadata": {},
   "outputs": [],
   "source": [
    "reg_params = [0.1, 1, 10, 100, 200]\n",
    "reg_params = np.array(reg_params)\n",
    "\n",
    "train_dat = pd.read_csv(\"train.csv\")\n",
    "train_dat.shape\n",
    "X_train = train_dat.iloc[:, 1:]\n",
    "y_train = train_dat.iloc[:, 0]"
   ]
  },
  {
   "cell_type": "markdown",
   "metadata": {},
   "source": [
    "### Define the model"
   ]
  },
  {
   "cell_type": "code",
   "execution_count": 10,
   "metadata": {},
   "outputs": [],
   "source": [
    "res = list(range(5))\n",
    "\n",
    "for i in range(5):\n",
    "    model = Ridge(alpha = reg_params[i]) \n",
    "    cv = RepeatedKFold(n_splits=10, n_repeats=1, random_state=1)\n",
    "\n",
    "    #evaluation\n",
    "    scores = cross_val_score(model, X_train, y_train, scoring = \"neg_root_mean_squared_error\", cv = cv)\n",
    "\n",
    "    res[i] = sum(scores * -1)/10"
   ]
  },
  {
   "cell_type": "code",
   "execution_count": 11,
   "metadata": {},
   "outputs": [
    {
     "data": {
      "text/plain": [
       "[5.470150471925883,\n",
       " 5.446422999386978,\n",
       " 5.4262710441132445,\n",
       " 5.573187425130199,\n",
       " 5.646326564016306]"
      ]
     },
     "execution_count": 11,
     "metadata": {},
     "output_type": "execute_result"
    }
   ],
   "source": [
    "res"
   ]
  },
  {
   "cell_type": "code",
   "execution_count": 67,
   "metadata": {},
   "outputs": [
    {
     "data": {
      "text/plain": [
       "pandas.core.frame.DataFrame"
      ]
     },
     "execution_count": 67,
     "metadata": {},
     "output_type": "execute_result"
    }
   ],
   "source": [
    "test = pd.read_csv(\"sample.csv\")\n",
    "type(test)"
   ]
  },
  {
   "cell_type": "code",
   "execution_count": 78,
   "metadata": {},
   "outputs": [],
   "source": [
    "res = pd.DataFrame(res)\n",
    "\n",
    "res.to_csv(r\"C:\\Users\\Damja\\OneDrive\\Damjan\\FS22\\Intro_to_ML\\project1\\result_task1A.csv\", index = False, header = False)"
   ]
  }
 ],
 "metadata": {
  "kernelspec": {
   "display_name": "Python 3",
   "language": "python",
   "name": "python3"
  },
  "language_info": {
   "codemirror_mode": {
    "name": "ipython",
    "version": 3
   },
   "file_extension": ".py",
   "mimetype": "text/x-python",
   "name": "python",
   "nbconvert_exporter": "python",
   "pygments_lexer": "ipython3",
   "version": "3.8.5"
  }
 },
 "nbformat": 4,
 "nbformat_minor": 4
}
